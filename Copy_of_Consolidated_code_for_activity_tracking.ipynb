{
  "nbformat": 4,
  "nbformat_minor": 0,
  "metadata": {
    "colab": {
      "name": "Copy of Consolidated code for activity tracking.ipynb",
      "provenance": [],
      "toc_visible": true,
      "mount_file_id": "1t0tBg5euqpens8nWjrOja_kFPH9Eh8_h",
      "authorship_tag": "ABX9TyMpeU/itP5Ky3F3gdKnqa/6",
      "include_colab_link": true
    },
    "kernelspec": {
      "name": "python3",
      "display_name": "Python 3"
    }
  },
  "cells": [
    {
      "cell_type": "markdown",
      "metadata": {
        "id": "view-in-github",
        "colab_type": "text"
      },
      "source": [
        "<a href=\"https://colab.research.google.com/github/NishaSathish/Consolidated_code_for_activity_tracking/blob/nisha_master/Copy_of_Consolidated_code_for_activity_tracking.ipynb\" target=\"_parent\"><img src=\"https://colab.research.google.com/assets/colab-badge.svg\" alt=\"Open In Colab\"/></a>"
      ]
    },
    {
      "cell_type": "markdown",
      "metadata": {
        "id": "SCXk6aSRD3B3",
        "colab_type": "text"
      },
      "source": [
        "# Importing the libraries"
      ]
    },
    {
      "cell_type": "code",
      "metadata": {
        "id": "1CVBU3yVBuhz",
        "colab_type": "code",
        "colab": {}
      },
      "source": [
        "import numpy as np\n",
        "import matplotlib.pyplot as plt\n",
        "import pandas as pd"
      ],
      "execution_count": null,
      "outputs": []
    },
    {
      "cell_type": "markdown",
      "metadata": {
        "id": "h97UEFMGEBlz",
        "colab_type": "text"
      },
      "source": [
        "# Importing the dataset"
      ]
    },
    {
      "cell_type": "code",
      "metadata": {
        "id": "-dYjj4pmEF9k",
        "colab_type": "code",
        "colab": {}
      },
      "source": [
        "dataset = pd.read_csv('sensor_activity_training_dataset.csv')"
      ],
      "execution_count": null,
      "outputs": []
    },
    {
      "cell_type": "code",
      "metadata": {
        "id": "e5s3nUJcmiud",
        "colab_type": "code",
        "colab": {}
      },
      "source": [
        "print (dataset)"
      ],
      "execution_count": null,
      "outputs": []
    },
    {
      "cell_type": "markdown",
      "metadata": {
        "id": "glnGCT-0KQ6e",
        "colab_type": "text"
      },
      "source": [
        "#data preprocessing"
      ]
    },
    {
      "cell_type": "markdown",
      "metadata": {
        "id": "c71DJn-IKWUQ",
        "colab_type": "text"
      },
      "source": [
        "#searching for empty rows and dropping them"
      ]
    },
    {
      "cell_type": "code",
      "metadata": {
        "id": "QK3MmpHVKYGr",
        "colab_type": "code",
        "colab": {}
      },
      "source": [
        "dataset.isnull()\n",
        "dataset_train = dataset.dropna(how = 'all')\n",
        "print (dataset_train)"
      ],
      "execution_count": null,
      "outputs": []
    },
    {
      "cell_type": "markdown",
      "metadata": {
        "id": "mj6nC6LBKa27",
        "colab_type": "text"
      },
      "source": [
        "#Dimensionality reduction"
      ]
    },
    {
      "cell_type": "markdown",
      "metadata": {
        "id": "bqNqXTOzKcnn",
        "colab_type": "text"
      },
      "source": [
        "#missing value ratio"
      ]
    },
    {
      "cell_type": "code",
      "metadata": {
        "id": "BrMoRME_Kfqi",
        "colab_type": "code",
        "colab": {}
      },
      "source": [
        "missing_value = dataset_train.isnull().sum()/len(dataset_train)*100\n",
        "\n",
        "\n",
        "variables = dataset_train.columns\n",
        "variable = [ ]\n",
        "for i in range(0,400):\n",
        "    if missing_value[i]>=20:   #setting the threshold as 20%\n",
        "        variable.append(variables[i])\n"
      ],
      "execution_count": null,
      "outputs": []
    },
    {
      "cell_type": "markdown",
      "metadata": {
        "id": "sqYTXfzOKhc6",
        "colab_type": "text"
      },
      "source": [
        "#low variance filter."
      ]
    },
    {
      "cell_type": "code",
      "metadata": {
        "id": "dDN4vF1jKkBa",
        "colab_type": "code",
        "colab": {}
      },
      "source": [
        "var = dataset_train.var()*100\n",
        "\n",
        "numeric = dataset_train.columns\n",
        "variable = [ ]\n",
        "len(var)\n",
        "for i in range(0,400):\n",
        "    if var[i]<=5:   #setting the threshold as 5%\n",
        "       variable.append(numeric[i]) "
      ],
      "execution_count": null,
      "outputs": []
    },
    {
      "cell_type": "markdown",
      "metadata": {
        "id": "BFTMtXZwKlfc",
        "colab_type": "text"
      },
      "source": [
        "# Drop features "
      ]
    },
    {
      "cell_type": "code",
      "metadata": {
        "id": "5TLQbRfIKnJ1",
        "colab_type": "code",
        "colab": {}
      },
      "source": [
        "dataset_train = dataset_train.drop(dataset_train[variable], axis=1)"
      ],
      "execution_count": null,
      "outputs": []
    },
    {
      "cell_type": "code",
      "metadata": {
        "id": "dxLBrgxpMRbe",
        "colab_type": "code",
        "colab": {}
      },
      "source": [
        "print(dataset_train)"
      ],
      "execution_count": null,
      "outputs": []
    },
    {
      "cell_type": "markdown",
      "metadata": {
        "id": "ou7YJUvFlEpc",
        "colab_type": "text"
      },
      "source": [
        "# dependent and independent variable set"
      ]
    },
    {
      "cell_type": "code",
      "metadata": {
        "id": "8MrqMqHFlLtv",
        "colab_type": "code",
        "colab": {}
      },
      "source": [
        "X_train = dataset_train.iloc[:, :279].values\n",
        "y_train = dataset_train.iloc[:, 279].values"
      ],
      "execution_count": null,
      "outputs": []
    },
    {
      "cell_type": "markdown",
      "metadata": {
        "id": "6RKJjCavSiMl",
        "colab_type": "text"
      },
      "source": [
        "#Dimensionality Reduction PCA"
      ]
    },
    {
      "cell_type": "code",
      "metadata": {
        "id": "-XAILlVwSlAN",
        "colab_type": "code",
        "colab": {}
      },
      "source": [
        "from sklearn.decomposition import PCA\n",
        "pca = PCA(n_components = 10)\n",
        "X_train = pca.fit_transform(X_train)\n",
        "explained_variance = pca.explained_variance_ratio_"
      ],
      "execution_count": null,
      "outputs": []
    },
    {
      "cell_type": "markdown",
      "metadata": {
        "id": "mOWI7u2OSpCn",
        "colab_type": "text"
      },
      "source": [
        "#Dimensionality Reduction LDA"
      ]
    },
    {
      "cell_type": "code",
      "metadata": {
        "id": "NWQcaj50SvVf",
        "colab_type": "code",
        "colab": {}
      },
      "source": [
        "from sklearn.discriminant_analysis import LinearDiscriminantAnalysis as LDA\n",
        "lda = LDA(n_components = 5)\n",
        "X_train = lda.fit_transform(X_train, y_train)"
      ],
      "execution_count": null,
      "outputs": []
    },
    {
      "cell_type": "markdown",
      "metadata": {
        "id": "VzOH73aOkb3x",
        "colab_type": "text"
      },
      "source": [
        "#Training the logistic regression model on the training dataset"
      ]
    },
    {
      "cell_type": "code",
      "metadata": {
        "id": "r_wRZgS-klyd",
        "colab_type": "code",
        "colab": {}
      },
      "source": [
        "from sklearn.linear_model import LogisticRegression\n",
        "classifier = LogisticRegression(random_state = 0)\n",
        "classifier.fit(X_train, y_train)"
      ],
      "execution_count": null,
      "outputs": []
    },
    {
      "cell_type": "markdown",
      "metadata": {
        "id": "lexitc9_SW5c",
        "colab_type": "text"
      },
      "source": [
        "#Training the Kernel SVM model on the training dataset"
      ]
    },
    {
      "cell_type": "code",
      "metadata": {
        "id": "a3bSj0cMTA28",
        "colab_type": "code",
        "colab": {}
      },
      "source": [
        "from sklearn.svm import SVC\n",
        "classifier = SVC(C = 1, kernel = 'rbf', random_state = 0)\n",
        "classifier.fit(X_train, y_train )"
      ],
      "execution_count": null,
      "outputs": []
    },
    {
      "cell_type": "markdown",
      "metadata": {
        "id": "PRXwa6fqTEkZ",
        "colab_type": "text"
      },
      "source": [
        "#Training the KNN model on the training dataset"
      ]
    },
    {
      "cell_type": "code",
      "metadata": {
        "id": "AGOh2MWTTXi9",
        "colab_type": "code",
        "colab": {}
      },
      "source": [
        "from sklearn.neighbors import KNeighborsClassifier\n",
        "classifier = KNeighborsClassifier(n_neighbors = 15, metric = 'minkowski', p = 2)\n",
        "classifier.fit(X_train, y_train)"
      ],
      "execution_count": null,
      "outputs": []
    },
    {
      "cell_type": "markdown",
      "metadata": {
        "id": "8K52S_4PTZue",
        "colab_type": "text"
      },
      "source": [
        "#Training the SVM model on the training dataset"
      ]
    },
    {
      "cell_type": "code",
      "metadata": {
        "id": "z1vFEMIwTcuK",
        "colab_type": "code",
        "colab": {}
      },
      "source": [
        "from sklearn.svm import SVC\n",
        "classifier = SVC(C=0.5, kernel = 'linear', random_state = 0)\n",
        "classifier.fit(X_train, y_train )"
      ],
      "execution_count": null,
      "outputs": []
    },
    {
      "cell_type": "markdown",
      "metadata": {
        "id": "2qKBLXHBThKe",
        "colab_type": "text"
      },
      "source": [
        "#Training the Naive bayes classifier on the training dataset"
      ]
    },
    {
      "cell_type": "code",
      "metadata": {
        "id": "eOR0PzNnTn1l",
        "colab_type": "code",
        "colab": {}
      },
      "source": [
        "from sklearn.naive_bayes import GaussianNB\n",
        "classifier = GaussianNB()\n",
        "classifier.fit(X_train, y_train)"
      ],
      "execution_count": null,
      "outputs": []
    },
    {
      "cell_type": "markdown",
      "metadata": {
        "id": "sV-KAdAJTq8U",
        "colab_type": "text"
      },
      "source": [
        "#Training the Decision Tree classifier on the training dataset"
      ]
    },
    {
      "cell_type": "code",
      "metadata": {
        "id": "X3jua2DiTvns",
        "colab_type": "code",
        "colab": {}
      },
      "source": [
        "from sklearn.tree import DecisionTreeClassifier\n",
        "classifier = DecisionTreeClassifier(criterion = 'entropy', random_state = 0)\n",
        "classifier.fit(X_train, y_train)"
      ],
      "execution_count": null,
      "outputs": []
    },
    {
      "cell_type": "markdown",
      "metadata": {
        "id": "i7sdnQBNTyLB",
        "colab_type": "text"
      },
      "source": [
        "#Training the Random forest classifier on the training dataset"
      ]
    },
    {
      "cell_type": "code",
      "metadata": {
        "id": "i-AzAVx4T1mj",
        "colab_type": "code",
        "colab": {}
      },
      "source": [
        "from sklearn.ensemble import RandomForestClassifier\n",
        "classifier = RandomForestClassifier(n_estimators = 15, criterion = 'entropy', random_state = 0)\n",
        "classifier.fit(X_train, y_train)"
      ],
      "execution_count": null,
      "outputs": []
    },
    {
      "cell_type": "markdown",
      "metadata": {
        "id": "rmu9TIfIT4dV",
        "colab_type": "text"
      },
      "source": [
        "#Training XGBoost on the training set"
      ]
    },
    {
      "cell_type": "code",
      "metadata": {
        "id": "oRQ6OJTrT5Ax",
        "colab_type": "code",
        "colab": {}
      },
      "source": [
        "import xgboost as xgb\n",
        "from xgboost import XGBClassifier\n",
        "classifier = XGBClassifier()\n",
        "classifier.fit(X_train, y_train)"
      ],
      "execution_count": null,
      "outputs": []
    },
    {
      "cell_type": "markdown",
      "metadata": {
        "id": "ubTksd3WUAdq",
        "colab_type": "text"
      },
      "source": [
        "#Applying k-Fold Cross Validation"
      ]
    },
    {
      "cell_type": "code",
      "metadata": {
        "id": "irKWP5sTUF3A",
        "colab_type": "code",
        "colab": {}
      },
      "source": [
        "from sklearn.model_selection import cross_val_score\n",
        "accuracies = cross_val_score(estimator = classifier, X = X_train, y = y_train, cv = 5)\n",
        "print(\"Accuracy: {:.2f} %\".format (accuracies.mean()*100))\n",
        "print(\"Standard Deviation: {:.2f} %\".format (accuracies.std()*100))"
      ],
      "execution_count": null,
      "outputs": []
    },
    {
      "cell_type": "markdown",
      "metadata": {
        "id": "igV1QYLVUJDQ",
        "colab_type": "text"
      },
      "source": [
        "#prediction of test results"
      ]
    },
    {
      "cell_type": "markdown",
      "metadata": {
        "id": "UTz4Y519UN2c",
        "colab_type": "text"
      },
      "source": [
        "#Importing the dataset"
      ]
    },
    {
      "cell_type": "code",
      "metadata": {
        "id": "j3tfQDc7UUKa",
        "colab_type": "code",
        "colab": {}
      },
      "source": [
        "dataset_test = pd.read_csv('sensor_activity_testing_dataset.csv')"
      ],
      "execution_count": null,
      "outputs": []
    },
    {
      "cell_type": "markdown",
      "metadata": {
        "id": "bcKWIP5LUSFH",
        "colab_type": "text"
      },
      "source": [
        "#dropping the columns same as training dataset\n",
        "Drop features "
      ]
    },
    {
      "cell_type": "code",
      "metadata": {
        "id": "GQzuV3qYUcGO",
        "colab_type": "code",
        "colab": {}
      },
      "source": [
        "dataset_test = dataset_test.drop(dataset_test[variable], axis=1)\n",
        "\n",
        "X_test = dataset_test.iloc[:, :].values"
      ],
      "execution_count": null,
      "outputs": []
    },
    {
      "cell_type": "markdown",
      "metadata": {
        "id": "_gcsSkZdUe5Y",
        "colab_type": "text"
      },
      "source": [
        "#Dimensionality reduction for the test dataset"
      ]
    },
    {
      "cell_type": "code",
      "metadata": {
        "id": "zcec7NQrUh5Y",
        "colab_type": "code",
        "colab": {}
      },
      "source": [
        "'''X_test = lda.transform(X_test)'''\n",
        "\n",
        "'''X_test = pca.transform(X_test)'''\n",
        "\n",
        "\"\"\"X_test = kpca.transform(X_test)\"\"\""
      ],
      "execution_count": null,
      "outputs": []
    },
    {
      "cell_type": "markdown",
      "metadata": {
        "id": "Z1LFQ0NIUkyz",
        "colab_type": "text"
      },
      "source": [
        "#Predicting the Test set results"
      ]
    },
    {
      "cell_type": "code",
      "metadata": {
        "id": "ni3n9SbpUqFc",
        "colab_type": "code",
        "colab": {}
      },
      "source": [
        "y_pred = classifier.predict(X_test)"
      ],
      "execution_count": null,
      "outputs": []
    },
    {
      "cell_type": "markdown",
      "metadata": {
        "id": "F4NMtcvAUsDb",
        "colab_type": "text"
      },
      "source": [
        "#Confusion matrix"
      ]
    },
    {
      "cell_type": "code",
      "metadata": {
        "id": "IKC1grxFU7Y7",
        "colab_type": "code",
        "colab": {}
      },
      "source": [
        "from sklearn.metrics import confusion_matrix, accuracy_score\n",
        "cm = confusion_matrix(y_test, y_pred)\n",
        "print(cm)\n",
        "accuracy_score(y_test, y_pred)"
      ],
      "execution_count": null,
      "outputs": []
    }
  ]
}