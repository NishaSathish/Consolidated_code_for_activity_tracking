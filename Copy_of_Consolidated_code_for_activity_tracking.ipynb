{
  "nbformat": 4,
  "nbformat_minor": 0,
  "metadata": {
    "colab": {
      "name": "Copy of Consolidated code for activity tracking.ipynb",
      "provenance": [],
      "toc_visible": true,
      "mount_file_id": "1t0tBg5euqpens8nWjrOja_kFPH9Eh8_h",
      "authorship_tag": "ABX9TyMdTqztLcWWOISq9QxDwrf0",
      "include_colab_link": true
    },
    "kernelspec": {
      "name": "python3",
      "display_name": "Python 3"
    }
  },
  "cells": [
    {
      "cell_type": "markdown",
      "metadata": {
        "id": "view-in-github",
        "colab_type": "text"
      },
      "source": [
        "<a href=\"https://colab.research.google.com/github/NishaSathish/Consolidated_code_for_activity_tracking/blob/nisha_master/Copy_of_Consolidated_code_for_activity_tracking.ipynb\" target=\"_parent\"><img src=\"https://colab.research.google.com/assets/colab-badge.svg\" alt=\"Open In Colab\"/></a>"
      ]
    },
    {
      "cell_type": "markdown",
      "metadata": {
        "id": "SCXk6aSRD3B3",
        "colab_type": "text"
      },
      "source": [
        "# Importing the libraries"
      ]
    },
    {
      "cell_type": "code",
      "metadata": {
        "id": "1CVBU3yVBuhz",
        "colab_type": "code",
        "colab": {}
      },
      "source": [
        "import numpy as np\n",
        "import matplotlib.pyplot as plt\n",
        "import pandas as pd"
      ],
      "execution_count": 1,
      "outputs": []
    },
    {
      "cell_type": "markdown",
      "metadata": {
        "id": "h97UEFMGEBlz",
        "colab_type": "text"
      },
      "source": [
        "# Importing the dataset"
      ]
    },
    {
      "cell_type": "code",
      "metadata": {
        "id": "-dYjj4pmEF9k",
        "colab_type": "code",
        "colab": {}
      },
      "source": [
        "dataset = pd.read_csv('sensor_activity_training_dataset.csv')"
      ],
      "execution_count": 2,
      "outputs": []
    },
    {
      "cell_type": "code",
      "metadata": {
        "id": "e5s3nUJcmiud",
        "colab_type": "code",
        "colab": {
          "base_uri": "https://localhost:8080/",
          "height": 255
        },
        "outputId": "74ad2205-ddbb-4e99-e012-5af1dd3da5ae"
      },
      "source": [
        "print (dataset)"
      ],
      "execution_count": 3,
      "outputs": [
        {
          "output_type": "stream",
          "text": [
            "       feature_1  feature_2  feature_3  ...  feature_399  feature_400  activity\n",
            "0          0.281   -0.00996    -0.1060  ...       -0.999       -0.999       5.0\n",
            "1          0.277   -0.01270    -0.1030  ...       -0.999       -0.999       5.0\n",
            "2          0.276   -0.02140    -0.1080  ...       -1.000       -1.000       5.0\n",
            "3          0.278   -0.02040    -0.1130  ...       -1.000       -1.000       5.0\n",
            "4          0.277   -0.01470    -0.1070  ...       -1.000       -1.000       5.0\n",
            "...          ...        ...        ...  ...          ...          ...       ...\n",
            "10232      0.310   -0.05340    -0.0991  ...       -0.947       -0.929       2.0\n",
            "10233      0.363   -0.03920    -0.1060  ...       -0.925       -0.836       2.0\n",
            "10234      0.350    0.03010    -0.1160  ...       -0.933       -0.877       2.0\n",
            "10235      0.238    0.01850    -0.0965  ...       -0.960       -0.923       2.0\n",
            "10236      0.154   -0.01840    -0.1370  ...       -0.980       -0.954       2.0\n",
            "\n",
            "[10237 rows x 401 columns]\n"
          ],
          "name": "stdout"
        }
      ]
    },
    {
      "cell_type": "markdown",
      "metadata": {
        "id": "glnGCT-0KQ6e",
        "colab_type": "text"
      },
      "source": [
        "#data preprocessing"
      ]
    },
    {
      "cell_type": "markdown",
      "metadata": {
        "id": "c71DJn-IKWUQ",
        "colab_type": "text"
      },
      "source": [
        "#searching for empty rows and dropping them"
      ]
    },
    {
      "cell_type": "code",
      "metadata": {
        "id": "QK3MmpHVKYGr",
        "colab_type": "code",
        "colab": {
          "base_uri": "https://localhost:8080/",
          "height": 255
        },
        "outputId": "d776d23a-12f5-4c79-8cd5-ee7c797654ff"
      },
      "source": [
        "dataset.isnull()\n",
        "dataset_train = dataset.dropna(how = 'all')\n",
        "print (dataset_train)"
      ],
      "execution_count": 4,
      "outputs": [
        {
          "output_type": "stream",
          "text": [
            "       feature_1  feature_2  feature_3  ...  feature_399  feature_400  activity\n",
            "0          0.281   -0.00996    -0.1060  ...       -0.999       -0.999       5.0\n",
            "1          0.277   -0.01270    -0.1030  ...       -0.999       -0.999       5.0\n",
            "2          0.276   -0.02140    -0.1080  ...       -1.000       -1.000       5.0\n",
            "3          0.278   -0.02040    -0.1130  ...       -1.000       -1.000       5.0\n",
            "4          0.277   -0.01470    -0.1070  ...       -1.000       -1.000       5.0\n",
            "...          ...        ...        ...  ...          ...          ...       ...\n",
            "10232      0.310   -0.05340    -0.0991  ...       -0.947       -0.929       2.0\n",
            "10233      0.363   -0.03920    -0.1060  ...       -0.925       -0.836       2.0\n",
            "10234      0.350    0.03010    -0.1160  ...       -0.933       -0.877       2.0\n",
            "10235      0.238    0.01850    -0.0965  ...       -0.960       -0.923       2.0\n",
            "10236      0.154   -0.01840    -0.1370  ...       -0.980       -0.954       2.0\n",
            "\n",
            "[10224 rows x 401 columns]\n"
          ],
          "name": "stdout"
        }
      ]
    },
    {
      "cell_type": "markdown",
      "metadata": {
        "id": "mj6nC6LBKa27",
        "colab_type": "text"
      },
      "source": [
        "#Dimensionality reduction"
      ]
    },
    {
      "cell_type": "markdown",
      "metadata": {
        "id": "bqNqXTOzKcnn",
        "colab_type": "text"
      },
      "source": [
        "#missing value ratio"
      ]
    },
    {
      "cell_type": "code",
      "metadata": {
        "id": "BrMoRME_Kfqi",
        "colab_type": "code",
        "colab": {}
      },
      "source": [
        "missing_value = dataset_train.isnull().sum()/len(dataset_train)*100\n",
        "\n",
        "\n",
        "variables = dataset_train.columns\n",
        "variable = [ ]\n",
        "for i in range(0,400):\n",
        "    if missing_value[i]>=20:   #setting the threshold as 20%\n",
        "        variable.append(variables[i])\n"
      ],
      "execution_count": 5,
      "outputs": []
    },
    {
      "cell_type": "markdown",
      "metadata": {
        "id": "sqYTXfzOKhc6",
        "colab_type": "text"
      },
      "source": [
        "#low variance filter."
      ]
    },
    {
      "cell_type": "code",
      "metadata": {
        "id": "dDN4vF1jKkBa",
        "colab_type": "code",
        "colab": {}
      },
      "source": [
        "var = dataset_train.var()*100\n",
        "\n",
        "numeric = dataset_train.columns\n",
        "variable = [ ]\n",
        "len(var)\n",
        "for i in range(0,400):\n",
        "    if var[i]<=5:   #setting the threshold as 5%\n",
        "       variable.append(numeric[i]) "
      ],
      "execution_count": 6,
      "outputs": []
    },
    {
      "cell_type": "markdown",
      "metadata": {
        "id": "BFTMtXZwKlfc",
        "colab_type": "text"
      },
      "source": [
        "# Drop features "
      ]
    },
    {
      "cell_type": "code",
      "metadata": {
        "id": "5TLQbRfIKnJ1",
        "colab_type": "code",
        "colab": {}
      },
      "source": [
        "dataset_train = dataset_train.drop(dataset_train[variable], axis=1)"
      ],
      "execution_count": 7,
      "outputs": []
    },
    {
      "cell_type": "code",
      "metadata": {
        "id": "dxLBrgxpMRbe",
        "colab_type": "code",
        "colab": {
          "base_uri": "https://localhost:8080/",
          "height": 255
        },
        "outputId": "e32643ab-83b7-4532-ad30-f4296f9f4d8f"
      },
      "source": [
        "print(dataset_train)"
      ],
      "execution_count": 8,
      "outputs": [
        {
          "output_type": "stream",
          "text": [
            "       feature_4  feature_5  feature_6  ...  feature_396  feature_398  activity\n",
            "0         -0.995    -0.9730     -0.986  ...       -1.000       -0.999       5.0\n",
            "1         -0.995    -0.9730     -0.985  ...       -1.000       -0.999       5.0\n",
            "2         -0.998    -0.9870     -0.993  ...       -1.000       -1.000       5.0\n",
            "3         -0.999    -0.9850     -0.996  ...       -1.000       -1.000       5.0\n",
            "4         -0.999    -0.9910     -0.993  ...       -1.000       -1.000       5.0\n",
            "...          ...        ...        ...  ...          ...          ...       ...\n",
            "10232     -0.288    -0.1410     -0.215  ...       -0.724       -0.912       2.0\n",
            "10233     -0.305     0.0281     -0.196  ...       -0.754       -0.877       2.0\n",
            "10234     -0.330    -0.0421     -0.250  ...       -0.735       -0.896       2.0\n",
            "10235     -0.323    -0.2300     -0.208  ...       -0.763       -0.965       2.0\n",
            "10236     -0.330    -0.1950     -0.164  ...       -0.751       -0.963       2.0\n",
            "\n",
            "[10224 rows x 280 columns]\n"
          ],
          "name": "stdout"
        }
      ]
    },
    {
      "cell_type": "markdown",
      "metadata": {
        "id": "ou7YJUvFlEpc",
        "colab_type": "text"
      },
      "source": [
        "# dependent and independent variable set"
      ]
    },
    {
      "cell_type": "code",
      "metadata": {
        "id": "8MrqMqHFlLtv",
        "colab_type": "code",
        "colab": {}
      },
      "source": [
        "X_train = dataset_train.iloc[:, :279].values\n",
        "y_train = dataset_train.iloc[:, 279].values"
      ],
      "execution_count": 9,
      "outputs": []
    },
    {
      "cell_type": "markdown",
      "metadata": {
        "id": "6RKJjCavSiMl",
        "colab_type": "text"
      },
      "source": [
        "#Dimensionality Reduction PCA"
      ]
    },
    {
      "cell_type": "code",
      "metadata": {
        "id": "-XAILlVwSlAN",
        "colab_type": "code",
        "colab": {}
      },
      "source": [
        "from sklearn.decomposition import PCA\n",
        "pca = PCA(n_components = 10)\n",
        "X_train = pca.fit_transform(X_train)\n",
        "explained_variance = pca.explained_variance_ratio_"
      ],
      "execution_count": null,
      "outputs": []
    },
    {
      "cell_type": "markdown",
      "metadata": {
        "id": "mOWI7u2OSpCn",
        "colab_type": "text"
      },
      "source": [
        "#Dimensionality Reduction LDA"
      ]
    },
    {
      "cell_type": "code",
      "metadata": {
        "id": "NWQcaj50SvVf",
        "colab_type": "code",
        "colab": {}
      },
      "source": [
        "from sklearn.discriminant_analysis import LinearDiscriminantAnalysis as LDA\n",
        "lda = LDA(n_components = 5)\n",
        "X_train = lda.fit_transform(X_train, y_train)"
      ],
      "execution_count": 10,
      "outputs": []
    },
    {
      "cell_type": "markdown",
      "metadata": {
        "id": "VzOH73aOkb3x",
        "colab_type": "text"
      },
      "source": [
        "#Training the logistic regression model on the training dataset"
      ]
    },
    {
      "cell_type": "code",
      "metadata": {
        "id": "r_wRZgS-klyd",
        "colab_type": "code",
        "colab": {}
      },
      "source": [
        "from sklearn.linear_model import LogisticRegression\n",
        "classifier = LogisticRegression(random_state = 0)\n",
        "classifier.fit(X_train, y_train)"
      ],
      "execution_count": null,
      "outputs": []
    },
    {
      "cell_type": "markdown",
      "metadata": {
        "id": "lexitc9_SW5c",
        "colab_type": "text"
      },
      "source": [
        "#Training the Kernel SVM model on the training dataset"
      ]
    },
    {
      "cell_type": "code",
      "metadata": {
        "id": "a3bSj0cMTA28",
        "colab_type": "code",
        "colab": {}
      },
      "source": [
        "from sklearn.svm import SVC\n",
        "classifier = SVC(C = 1, kernel = 'rbf', random_state = 0)\n",
        "classifier.fit(X_train, y_train )"
      ],
      "execution_count": null,
      "outputs": []
    },
    {
      "cell_type": "markdown",
      "metadata": {
        "id": "PRXwa6fqTEkZ",
        "colab_type": "text"
      },
      "source": [
        "#Training the KNN model on the training dataset"
      ]
    },
    {
      "cell_type": "code",
      "metadata": {
        "id": "AGOh2MWTTXi9",
        "colab_type": "code",
        "colab": {
          "base_uri": "https://localhost:8080/",
          "height": 68
        },
        "outputId": "ef007518-fd05-4ed9-9959-9cc09023d37f"
      },
      "source": [
        "from sklearn.neighbors import KNeighborsClassifier\n",
        "classifier = KNeighborsClassifier(n_neighbors = 15, metric = 'minkowski', p = 2)\n",
        "classifier.fit(X_train, y_train)"
      ],
      "execution_count": 11,
      "outputs": [
        {
          "output_type": "execute_result",
          "data": {
            "text/plain": [
              "KNeighborsClassifier(algorithm='auto', leaf_size=30, metric='minkowski',\n",
              "                     metric_params=None, n_jobs=None, n_neighbors=15, p=2,\n",
              "                     weights='uniform')"
            ]
          },
          "metadata": {
            "tags": []
          },
          "execution_count": 11
        }
      ]
    },
    {
      "cell_type": "markdown",
      "metadata": {
        "id": "8K52S_4PTZue",
        "colab_type": "text"
      },
      "source": [
        "#Training the SVM model on the training dataset"
      ]
    },
    {
      "cell_type": "code",
      "metadata": {
        "id": "z1vFEMIwTcuK",
        "colab_type": "code",
        "colab": {}
      },
      "source": [
        "from sklearn.svm import SVC\n",
        "classifier = SVC(C=0.5, kernel = 'linear', random_state = 0)\n",
        "classifier.fit(X_train, y_train )"
      ],
      "execution_count": null,
      "outputs": []
    },
    {
      "cell_type": "markdown",
      "metadata": {
        "id": "2qKBLXHBThKe",
        "colab_type": "text"
      },
      "source": [
        "#Training the Naive bayes classifier on the training dataset"
      ]
    },
    {
      "cell_type": "code",
      "metadata": {
        "id": "eOR0PzNnTn1l",
        "colab_type": "code",
        "colab": {}
      },
      "source": [
        "from sklearn.naive_bayes import GaussianNB\n",
        "classifier = GaussianNB()\n",
        "classifier.fit(X_train, y_train)"
      ],
      "execution_count": null,
      "outputs": []
    },
    {
      "cell_type": "markdown",
      "metadata": {
        "id": "sV-KAdAJTq8U",
        "colab_type": "text"
      },
      "source": [
        "#Training the Decision Tree classifier on the training dataset"
      ]
    },
    {
      "cell_type": "code",
      "metadata": {
        "id": "X3jua2DiTvns",
        "colab_type": "code",
        "colab": {}
      },
      "source": [
        "from sklearn.tree import DecisionTreeClassifier\n",
        "classifier = DecisionTreeClassifier(criterion = 'entropy', random_state = 0)\n",
        "classifier.fit(X_train, y_train)"
      ],
      "execution_count": null,
      "outputs": []
    },
    {
      "cell_type": "markdown",
      "metadata": {
        "id": "i7sdnQBNTyLB",
        "colab_type": "text"
      },
      "source": [
        "#Training the Random forest classifier on the training dataset"
      ]
    },
    {
      "cell_type": "code",
      "metadata": {
        "id": "i-AzAVx4T1mj",
        "colab_type": "code",
        "colab": {}
      },
      "source": [
        "from sklearn.ensemble import RandomForestClassifier\n",
        "classifier = RandomForestClassifier(n_estimators = 15, criterion = 'entropy', random_state = 0)\n",
        "classifier.fit(X_train, y_train)"
      ],
      "execution_count": null,
      "outputs": []
    },
    {
      "cell_type": "markdown",
      "metadata": {
        "id": "rmu9TIfIT4dV",
        "colab_type": "text"
      },
      "source": [
        "#Training XGBoost on the training set"
      ]
    },
    {
      "cell_type": "code",
      "metadata": {
        "id": "oRQ6OJTrT5Ax",
        "colab_type": "code",
        "colab": {
          "base_uri": "https://localhost:8080/",
          "height": 136
        },
        "outputId": "e2b9ee8e-c054-412b-c99c-92ac953a39c6"
      },
      "source": [
        "import xgboost as xgb\n",
        "from xgboost import XGBClassifier\n",
        "classifier = XGBClassifier()\n",
        "classifier.fit(X_train, y_train)"
      ],
      "execution_count": 11,
      "outputs": [
        {
          "output_type": "execute_result",
          "data": {
            "text/plain": [
              "XGBClassifier(base_score=0.5, booster='gbtree', colsample_bylevel=1,\n",
              "              colsample_bynode=1, colsample_bytree=1, gamma=0,\n",
              "              learning_rate=0.1, max_delta_step=0, max_depth=3,\n",
              "              min_child_weight=1, missing=None, n_estimators=100, n_jobs=1,\n",
              "              nthread=None, objective='multi:softprob', random_state=0,\n",
              "              reg_alpha=0, reg_lambda=1, scale_pos_weight=1, seed=None,\n",
              "              silent=None, subsample=1, verbosity=1)"
            ]
          },
          "metadata": {
            "tags": []
          },
          "execution_count": 11
        }
      ]
    },
    {
      "cell_type": "markdown",
      "metadata": {
        "id": "ubTksd3WUAdq",
        "colab_type": "text"
      },
      "source": [
        "#Applying k-Fold Cross Validation"
      ]
    },
    {
      "cell_type": "code",
      "metadata": {
        "id": "irKWP5sTUF3A",
        "colab_type": "code",
        "colab": {
          "base_uri": "https://localhost:8080/",
          "height": 51
        },
        "outputId": "d62fb6d2-50c7-4906-c22a-0246eb5bcfcf"
      },
      "source": [
        "from sklearn.model_selection import cross_val_score\n",
        "accuracies = cross_val_score(estimator = classifier, X = X_train, y = y_train, cv = 5)\n",
        "print(\"Accuracy: {:.2f} %\".format (accuracies.mean()*100))\n",
        "print(\"Standard Deviation: {:.2f} %\".format (accuracies.std()*100))"
      ],
      "execution_count": 12,
      "outputs": [
        {
          "output_type": "stream",
          "text": [
            "Accuracy: 97.61 %\n",
            "Standard Deviation: 0.65 %\n"
          ],
          "name": "stdout"
        }
      ]
    },
    {
      "cell_type": "markdown",
      "metadata": {
        "id": "igV1QYLVUJDQ",
        "colab_type": "text"
      },
      "source": [
        "#prediction of test results"
      ]
    },
    {
      "cell_type": "markdown",
      "metadata": {
        "id": "UTz4Y519UN2c",
        "colab_type": "text"
      },
      "source": [
        "#Importing the dataset"
      ]
    },
    {
      "cell_type": "code",
      "metadata": {
        "id": "j3tfQDc7UUKa",
        "colab_type": "code",
        "colab": {}
      },
      "source": [
        "dataset_test = pd.read_csv('sensor_activity_testing_dataset.csv')"
      ],
      "execution_count": 13,
      "outputs": []
    },
    {
      "cell_type": "markdown",
      "metadata": {
        "id": "bcKWIP5LUSFH",
        "colab_type": "text"
      },
      "source": [
        "#dropping the columns same as training dataset\n",
        "Drop features "
      ]
    },
    {
      "cell_type": "code",
      "metadata": {
        "id": "GQzuV3qYUcGO",
        "colab_type": "code",
        "colab": {
          "base_uri": "https://localhost:8080/",
          "height": 255
        },
        "outputId": "7acd5faf-5eb6-42be-bd63-81d19e9712f1"
      },
      "source": [
        "dataset_test = dataset_test.drop(dataset_test[variable], axis=1)\n",
        "print (dataset_test)\n",
        "\n",
        "\n",
        "\n"
      ],
      "execution_count": 14,
      "outputs": [
        {
          "output_type": "stream",
          "text": [
            "    feature_4  feature_5  feature_6  ...  feature_396  feature_398  activity ACTUAL\n",
            "0      -0.995     -0.983     -0.914  ...         -1.0       -1.000                5\n",
            "1      -0.998     -0.975     -0.960  ...         -1.0       -0.999                5\n",
            "2      -0.995     -0.967     -0.979  ...         -1.0       -1.000                5\n",
            "3      -0.996     -0.983     -0.991  ...         -1.0       -1.000                5\n",
            "4      -0.998     -0.981     -0.990  ...         -1.0       -1.000                5\n",
            "..        ...        ...        ...  ...          ...          ...              ...\n",
            "70     -0.991     -0.956     -0.981  ...         -1.0       -0.999                4\n",
            "71     -0.990     -0.949     -0.978  ...         -1.0       -1.000                4\n",
            "72     -0.991     -0.920     -0.980  ...         -1.0       -1.000                4\n",
            "73     -0.989     -0.947     -0.977  ...         -1.0       -0.998                4\n",
            "74     -0.973     -0.938     -0.967  ...         -1.0       -0.995                4\n",
            "\n",
            "[75 rows x 280 columns]\n"
          ],
          "name": "stdout"
        }
      ]
    },
    {
      "cell_type": "code",
      "metadata": {
        "id": "XVBaTJ7qN2BH",
        "colab_type": "code",
        "colab": {}
      },
      "source": [
        "X_test = dataset_test.iloc[:, :279].values\n",
        "y_test = dataset_test.iloc[:, 279].values"
      ],
      "execution_count": 15,
      "outputs": []
    },
    {
      "cell_type": "markdown",
      "metadata": {
        "id": "_gcsSkZdUe5Y",
        "colab_type": "text"
      },
      "source": [
        "#Dimensionality reduction for the test dataset"
      ]
    },
    {
      "cell_type": "code",
      "metadata": {
        "id": "zcec7NQrUh5Y",
        "colab_type": "code",
        "colab": {}
      },
      "source": [
        "X_test = lda.transform(X_test)\n",
        "\n"
      ],
      "execution_count": 16,
      "outputs": []
    },
    {
      "cell_type": "markdown",
      "metadata": {
        "id": "Z1LFQ0NIUkyz",
        "colab_type": "text"
      },
      "source": [
        "#Predicting the Test set results"
      ]
    },
    {
      "cell_type": "code",
      "metadata": {
        "id": "ni3n9SbpUqFc",
        "colab_type": "code",
        "colab": {
          "base_uri": "https://localhost:8080/",
          "height": 85
        },
        "outputId": "e877f927-321f-4346-ae60-d0bcaa1a3e92"
      },
      "source": [
        "y_pred = classifier.predict(X_test)\n",
        "print (y_pred)"
      ],
      "execution_count": 17,
      "outputs": [
        {
          "output_type": "stream",
          "text": [
            "[5. 5. 5. 5. 5. 5. 5. 5. 5. 6. 6. 6. 6. 6. 6. 6. 6. 6. 6. 6. 6. 3. 3. 3.\n",
            " 3. 3. 3. 3. 3. 3. 3. 3. 3. 2. 2. 2. 2. 2. 2. 2. 2. 2. 2. 2. 2. 2. 2. 1.\n",
            " 1. 1. 1. 1. 1. 1. 1. 1. 1. 1. 1. 1. 4. 4. 4. 4. 4. 4. 4. 4. 4. 4. 4. 4.\n",
            " 4. 5. 5.]\n"
          ],
          "name": "stdout"
        }
      ]
    },
    {
      "cell_type": "markdown",
      "metadata": {
        "id": "F4NMtcvAUsDb",
        "colab_type": "text"
      },
      "source": [
        "#Confusion matrix"
      ]
    },
    {
      "cell_type": "code",
      "metadata": {
        "id": "IKC1grxFU7Y7",
        "colab_type": "code",
        "colab": {
          "base_uri": "https://localhost:8080/",
          "height": 136
        },
        "outputId": "c13cdaed-78b1-4943-fc64-fb2ab88c9aa8"
      },
      "source": [
        "from sklearn.metrics import confusion_matrix, accuracy_score\n",
        "cm = confusion_matrix(y_test, y_pred)\n",
        "print(cm)\n",
        "accuracy_score(y_test, y_pred)"
      ],
      "execution_count": 18,
      "outputs": [
        {
          "output_type": "stream",
          "text": [
            "[[13  0  0  0  0  0]\n",
            " [ 0 14  0  0  0  0]\n",
            " [ 0  0 12  0  0  0]\n",
            " [ 0  0  0 13  2  0]\n",
            " [ 0  0  0  0  9  0]\n",
            " [ 0  0  0  0  0 12]]\n"
          ],
          "name": "stdout"
        },
        {
          "output_type": "execute_result",
          "data": {
            "text/plain": [
              "0.9733333333333334"
            ]
          },
          "metadata": {
            "tags": []
          },
          "execution_count": 18
        }
      ]
    }
  ]
}